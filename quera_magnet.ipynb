{
 "cells": [
  {
   "cell_type": "markdown",
   "id": "14af8c96",
   "metadata": {},
   "source": [
    "<h1 align=center style=\"line-height:200%;font-family:vazir;color:#0099cc\">\n",
    "<font face=\"vazirmatn\" color=\"#0099cc\">\n",
    "مگنت\n",
    "</font>\n",
    "</h1>"
   ]
  },
  {
   "attachments": {},
   "cell_type": "markdown",
   "id": "3be49070",
   "metadata": {},
   "source": [
    "<p dir=rtl style=\"direction: rtl;text-align: justify;line-height:200%;font-family:vazir;font-size:medium\">\n",
    "<font face=\"vazirmatn\" size=3>\n",
    "    در تمرین آخر فصل «آماده‌سازی داده» قصد داریم پس از انجام چندین گام پیش‌پردازش، داده‌های آگهی‌های شغلی کوئرا را تحلیل کنیم.\n",
    "آنچه در این تمرین تحلیل می‌کنیم مطمئناً بخش بسیار کوچکی از حقایق پنهان در دل داده‌هاست. پس پیشنهاد می‌کنیم علاوه بر آنچه این تمرین از شما می‌خواهد، خود نیز سعی کنید حقایق دیگری از داده‌ها استخراج کنید.\n",
    "این مجموعه‌داده شامل آگهی‌های شغلی است که در کوئرا ثبت شده‌اند. برای حفظ حریم شخصی شرکت‌ها، شناسه‌ی شرکت‌های ثبت‌کننده آگهی از مجموعه‌داده حذف شده است. هر سطر از این مجموعه‌داده اطلاعات یک آگهی‌ شغلی است که شرکتی قصد جذب نیروی متناسب با آن را داشته است.\n",
    "</font>\n",
    "</p>"
   ]
  },
  {
   "cell_type": "code",
   "id": "6169940f",
   "metadata": {
    "ExecuteTime": {
     "end_time": "2025-02-24T09:30:50.619047Z",
     "start_time": "2025-02-24T09:30:50.614552Z"
    }
   },
   "source": [
    "import pandas as pd\n",
    "from datetime import datetime\n",
    "\n",
    "from scipy.constants import minute"
   ],
   "outputs": [],
   "execution_count": 216
  },
  {
   "attachments": {},
   "cell_type": "markdown",
   "id": "01fb5664",
   "metadata": {},
   "source": [
    "<h2 align=right style=\"line-height:200%;font-family:vazir;color:#0099cc\">\n",
    "<font face=\"vazirmatn\" color=\"#0099cc\">\n",
    "مجموعه‌داده\n",
    "</font>\n",
    "</h2>\n",
    "\n",
    "<p dir=rtl style=\"direction: rtl;text-align: justify;line-height:200%;font-family:vazir;font-size:medium\">\n",
    "<font face=\"vazirmatn\" size=3>\n",
    "    مجموعه داده‌ی این سوال دارای ۸ ستون است که در جدول زیر به شرح ستون‌های آن پرداخته شده‌است.\n",
    "</font>\n",
    "</p>\n",
    "\n",
    "<center>\n",
    "<div dir=rtl style=\"direction: rtl;text-align: justify;line-height:200%;font-family:vazir;font-size:medium\">\n",
    "<font face=\"vazirmatn\" size=3>\n",
    "\n",
    "| نام ستون| توضیح ستون|\n",
    "|:------------------:|:------------------:|\n",
    "|Level|سطح نیرویی که شرکت قصد جذب داشته. این ستون دارای ۴ مقدار منحصر به فرد است. (Junior) S (Senior)، M (Mid level)، J و (Intern) I|\n",
    "|Offers Remote|نشان می‌دهد آیا شرکت امکان دورکاری برای موقعیت شغلی را فراهم کرده‌ است یا خیر.|\n",
    "|Publish Time|تاریخ و ساعتی که آگهی شغلی منتشر شده است.|\n",
    "|Salary|حقوقی که شرکت برای یک موقعیت شغلی خاص در نظر گرفته‌ است. <code>MT</code> آخر هر عبارت نشان‌دهنده‌ی «میلیون تومان» است. و علامت‌های <code>></code> و <code><</code> حد بالا و حد پایین حقوق نوشته‌شده را نشان می‌دهد.|\n",
    "|Title|عنوانی که شرکت برای یک آگهی شغلی خاص ثبت کرده است.|\n",
    "|Close Time|تاریخ و ساعتی که آگهی شغلی بسته شده است.|\n",
    "|State|وضعیت فعلی آگهی شغلی را نشان می‌دهد. دارای سه مقدار منحصر به فرد است. A (Archived)، C (Closed) و PB (Published)|\n",
    "|Collaboration Type|وضعیت همکاری را نشان می‌دهد که آیا FT (Full Time / تمام‌وقت) است یا PT (Part Time / پاره‌وقت)|\n",
    "\n",
    "    \n",
    "</font>\n",
    "</div>\n",
    "</center>\n"
   ]
  },
  {
   "attachments": {},
   "cell_type": "markdown",
   "id": "6a302c1d",
   "metadata": {},
   "source": [
    "<p dir=rtl style=\"direction: rtl;text-align: justify;line-height:200%;font-family:vazir;font-size:medium\">\n",
    "<font face=\"vazirmatn\" size=3>\n",
    "    این سوال در دو بخش تدوین شده است: پیش‌پردازش و تحلیل.\n",
    "    در ابتدا مراحل پیش‌پردازش را شرح خواهیم‌ داد، سپس به سراغ مرحله‌ی تحلیل می‌رویم.\n",
    "</font>\n",
    "</p>\n"
   ]
  },
  {
   "cell_type": "code",
   "id": "5f58ddfb",
   "metadata": {
    "scrolled": true,
    "ExecuteTime": {
     "end_time": "2025-02-24T09:30:50.659091Z",
     "start_time": "2025-02-24T09:30:50.642259Z"
    }
   },
   "source": [
    "df = pd.read_csv('job_posts.csv')"
   ],
   "outputs": [],
   "execution_count": 217
  },
  {
   "attachments": {},
   "cell_type": "markdown",
   "id": "04617399",
   "metadata": {},
   "source": [
    "<h2 align=right style=\"line-height:200%;font-family:vazir;color:#0099cc\">\n",
    "<font face=\"vazirmatn\" color=\"#0099cc\">\n",
    "پیش‌پردازش\n",
    "</font>\n",
    "</h2>\n",
    "\n",
    "<p dir=rtl style=\"direction: rtl;text-align: justify;line-height:200%;font-family:vazir;font-size:medium\">\n",
    "<font face=\"vazirmatn\" size=3>\n",
    "پیش‌پردازش این سوال، شامل سه گام است که پس از اعمال آن‌ها، مجموعه‌داده‌ی ما برای تحلیل آماده می‌شود.    \n",
    "</font>\n",
    "</p>\n"
   ]
  },
  {
   "attachments": {},
   "cell_type": "markdown",
   "id": "f7dde16b",
   "metadata": {},
   "source": [
    "<h3 align=right style=\"line-height:200%;font-family:vazir;color:#0099cc\">\n",
    "<font face=\"vazirmatn\" color=\"#0099cc\">\n",
    "گام اول پیش‌پردازش\n",
    "</font>\n",
    "</h3>\n",
    "\n",
    "<p dir=rtl style=\"direction: rtl;text-align: justify;line-height:200%;font-family:vazir;font-size:medium\">\n",
    "<font face=\"vazirmatn\" size=3>\n",
    "    سطرهایی که <b>هر ۳ ستون </b> <code>Level</code> ،<code>Salary</code> و <code>Collaboration Type</code> در آن‌ها گم‌شده‌اند (<code>NaN</code> هستند) را کلاً از داده‌ها حذف کنید. با داده‌ای که از این مرحله به‌دست می‌آورید سراغ گام دوم بروید.\n",
    "</font>\n",
    "</p>\n"
   ]
  },
  {
   "cell_type": "code",
   "id": "fd7be7d7",
   "metadata": {
    "ExecuteTime": {
     "end_time": "2025-02-24T09:30:50.676010Z",
     "start_time": "2025-02-24T09:30:50.665063Z"
    }
   },
   "source": [
    "df = df.dropna(subset=['Salary', 'Level', 'Collaboration Type'], how='all')\n",
    "print(df)"
   ],
   "outputs": [
    {
     "name": "stdout",
     "output_type": "stream",
     "text": [
      "     Level  Offers Remote         Publish Time Salary  \\\n",
      "0        S          False  2020-04-20 16:52:15   <8MT   \n",
      "1        J          False  2020-02-24 12:55:02  <12MT   \n",
      "2        J           True  2020-02-12 13:49:32   <8MT   \n",
      "3        J          False  2020-08-18 15:46:48   <3MT   \n",
      "5        J          False  2020-10-11 12:02:37    NaN   \n",
      "...    ...            ...                  ...    ...   \n",
      "7664     S          False  2021-05-17 10:11:20    NaN   \n",
      "7665     S          False  2021-05-17 09:54:44    NaN   \n",
      "7666     S          False  2021-05-17 09:53:45    NaN   \n",
      "7667     S          False  2021-05-17 08:17:06    NaN   \n",
      "7668     S           True  2021-05-15 16:24:36  >12MT   \n",
      "\n",
      "                           Title           Close Time State Collaboration Type  \n",
      "0            توسعه‌دهنده Node.js  2020-06-20 03:00:06     C                 FT  \n",
      "1            توسعه‌دهنده Backend  2020-04-25 03:00:05     C                 FT  \n",
      "2                 توسعه‌دهنده C#  2020-04-13 03:00:05     C                 FT  \n",
      "3          توسعه‌دهنده Front-end  2020-08-25 21:51:39     C                 PT  \n",
      "5      Associate Product Manager  2020-11-08 01:27:52     C                 FT  \n",
      "...                          ...                  ...   ...                ...  \n",
      "7664             DevOps Engineer  2021-06-27 04:04:50     C                 FT  \n",
      "7665    برنامه‌نویس ASP.NET Core  2021-06-27 04:04:50     C                 FT  \n",
      "7666        توسعه‌دهنده C++ (qt)  2021-06-27 04:04:50     C                 FT  \n",
      "7667          کارشناس هوش مصنوعی  2021-06-27 04:04:50     C                 FT  \n",
      "7668  توسعه‌دهنده ارشد Front-end  2021-06-27 04:04:50     C                 FT  \n",
      "\n",
      "[7246 rows x 8 columns]\n"
     ]
    }
   ],
   "execution_count": 218
  },
  {
   "attachments": {},
   "cell_type": "markdown",
   "id": "e72433fe",
   "metadata": {},
   "source": [
    "<h3 align=right style=\"line-height:200%;font-family:vazir;color:#0099cc\">\n",
    "<font face=\"vazirmatn\" color=\"#0099cc\">\n",
    "گام دوم پیش‌پردازش\n",
    "</font>\n",
    "</h3>\n",
    "\n",
    "<p dir=rtl style=\"direction: rtl;text-align: justify;line-height:200%;font-family:vazir;font-size:medium\">\n",
    "<font face=\"vazirmatn\" size=3>\n",
    "    مقادیر ستون <code>Salary</code> را با عددی که دارند جایگزین کنید.\n",
    "    مثلا مقداری مثل \n",
    "    <code>>6MT</code>\n",
    "     را به \n",
    "     <code>6</code>\n",
    "      تبدیل کنید.\n",
    "    یا \n",
    "    <code>>12MT</code>\n",
    "     را به\n",
    "      <code>12</code>\n",
    "       و ... تبدیل کنید.\n",
    "    <br>\n",
    "    به صورت کلی، عدد هر رشته  از ستون <code>Salary</code> را جدا کرده و جایگزین همان رشته‌ی درون دیتاست کنید.\n",
    "    </font>\n",
    "</p>"
   ]
  },
  {
   "cell_type": "code",
   "id": "2a9fd319",
   "metadata": {
    "ExecuteTime": {
     "end_time": "2025-02-24T09:30:50.705307Z",
     "start_time": "2025-02-24T09:30:50.694357Z"
    }
   },
   "source": [
    "import re\n",
    "def find_int(x):\n",
    "    return re.findall(r'\\d+', x)\n",
    "df['Salary'] = df['Salary'].astype(str).apply(lambda x: int(find_int(x)[0]) if find_int(x) else None)\n"
   ],
   "outputs": [],
   "execution_count": 219
  },
  {
   "attachments": {},
   "cell_type": "markdown",
   "id": "7015fd3d",
   "metadata": {},
   "source": [
    "<h3 align=right style=\"line-height:200%;font-family:vazir;color:#0099cc\">\n",
    "<font face=\"vazirmatn\" color=\"#0099cc\">\n",
    "گام سوم پیش‌پردازش\n",
    "</font>\n",
    "</h3>\n",
    "\n",
    "<p dir=rtl style=\"direction: rtl;text-align: justify;line-height:200%;font-family:vazir;font-size:medium\">\n",
    "<font face=\"vazirmatn\" size=3>\n",
    "    مقادیر گم‌شده‌ی ستون <code>Salary</code> را با میانگین حقوق‌ها <b>به تفکیک سطح</b> پر کنید. یعنی اگر <code>Salary</code> یک آگهی جونیور (<code>J</code>) گم‌شده بود، آن را با میانگین همه‌ی جونیورها پر کنید؛ اگر <code>Salary</code> یک آگهی سینیور (<code>S</code>) گم‌شده بود، آن را با میانگین همه‌ی سنیورها پر کنید؛ اگر <code>Salary</code> یک آگهی میدلول (<code>M</code>) گم‌شده بود، آن را با میانگین همه‌ی میدلول‌ها پر کنید؛ اگر <code>Salary</code> یک آگهی اینترن (<code>I</code>) گم‌شده بود، آن را با میانگین همه‌ی اینترن‌ها پر کنید.\n",
    "</font>\n",
    "</p>"
   ]
  },
  {
   "cell_type": "code",
   "id": "9e2228c5",
   "metadata": {
    "ExecuteTime": {
     "end_time": "2025-02-24T09:30:50.735070Z",
     "start_time": "2025-02-24T09:30:50.723659Z"
    }
   },
   "source": [
    "df['Salary'] = df.groupby('Level')['Salary'].transform(lambda x: x.fillna(x.mean()))\n",
    "print(df)"
   ],
   "outputs": [
    {
     "name": "stdout",
     "output_type": "stream",
     "text": [
      "     Level  Offers Remote         Publish Time     Salary  \\\n",
      "0        S          False  2020-04-20 16:52:15   8.000000   \n",
      "1        J          False  2020-02-24 12:55:02  12.000000   \n",
      "2        J           True  2020-02-12 13:49:32   8.000000   \n",
      "3        J          False  2020-08-18 15:46:48   3.000000   \n",
      "5        J          False  2020-10-11 12:02:37   5.620080   \n",
      "...    ...            ...                  ...        ...   \n",
      "7664     S          False  2021-05-17 10:11:20   8.790408   \n",
      "7665     S          False  2021-05-17 09:54:44   8.790408   \n",
      "7666     S          False  2021-05-17 09:53:45   8.790408   \n",
      "7667     S          False  2021-05-17 08:17:06   8.790408   \n",
      "7668     S           True  2021-05-15 16:24:36  12.000000   \n",
      "\n",
      "                           Title           Close Time State Collaboration Type  \n",
      "0            توسعه‌دهنده Node.js  2020-06-20 03:00:06     C                 FT  \n",
      "1            توسعه‌دهنده Backend  2020-04-25 03:00:05     C                 FT  \n",
      "2                 توسعه‌دهنده C#  2020-04-13 03:00:05     C                 FT  \n",
      "3          توسعه‌دهنده Front-end  2020-08-25 21:51:39     C                 PT  \n",
      "5      Associate Product Manager  2020-11-08 01:27:52     C                 FT  \n",
      "...                          ...                  ...   ...                ...  \n",
      "7664             DevOps Engineer  2021-06-27 04:04:50     C                 FT  \n",
      "7665    برنامه‌نویس ASP.NET Core  2021-06-27 04:04:50     C                 FT  \n",
      "7666        توسعه‌دهنده C++ (qt)  2021-06-27 04:04:50     C                 FT  \n",
      "7667          کارشناس هوش مصنوعی  2021-06-27 04:04:50     C                 FT  \n",
      "7668  توسعه‌دهنده ارشد Front-end  2021-06-27 04:04:50     C                 FT  \n",
      "\n",
      "[7246 rows x 8 columns]\n"
     ]
    }
   ],
   "execution_count": 220
  },
  {
   "attachments": {},
   "cell_type": "markdown",
   "id": "3f187efb",
   "metadata": {},
   "source": [
    "<p dir=rtl style=\"direction: rtl;text-align: justify;line-height:200%;font-family:vazir;font-size:medium\">\n",
    "<font face=\"vazirmatn\" size=3>\n",
    "حال با داده‌ای که پس از این مراحل به‌دست آورده‌اید، به حل سوالات بعدی بپردازید.\n",
    "</font>\n",
    "</p>"
   ]
  },
  {
   "attachments": {},
   "cell_type": "markdown",
   "id": "e96a54aa",
   "metadata": {},
   "source": [
    "<h2 align=right style=\"line-height:200%;font-family:vazir;color:#0099cc\">\n",
    "<font face=\"vazirmatn\" color=\"#0099cc\">\n",
    "تحلیل    \n",
    "</font>\n",
    "</h2>\n",
    "\n",
    "<p dir=rtl style=\"direction: rtl;text-align: right;line-height:200%;font-family:vazir;font-size:medium\">\n",
    "<font face=\"vazirmatn\" size=3>\n",
    "    بخش تحلیل تمرین مگنت نیز از سه گام تشکیل شده‌است:\n",
    "    <ul dir=rtl>\n",
    "    <li>در گام اول می‌خواهیم تاثیر کرونا بر دورکاری در ایران را بسنجیم.</li>\n",
    "    <li>در سوال دوم تاثیر زمان بر انتشار آگهی‌های شغلی را اندازه می‌گیریم.</li>\n",
    "    <li>و نهایتاً در گام سوم میانگین دریافتی فعالان حوزه‌ی داده را به‌دست خواهیم آورد.</li>\n",
    "    </ul>\n",
    "</font>\n",
    "</p>\n"
   ]
  },
  {
   "attachments": {},
   "cell_type": "markdown",
   "id": "d4655aa6",
   "metadata": {},
   "source": [
    "<h3 align=right style=\"line-height:200%;font-family:vazir;color:#0099cc\">\n",
    "<font face=\"vazirmatn\" color=\"#0099cc\">\n",
    "گام اول تحلیل\n",
    "</font>\n",
    "</h3>\n",
    "\n",
    "<p dir=rtl style=\"direction: rtl;text-align: justify;line-height:200%;font-family:vazir;font-size:medium\">\n",
    "<font face=\"vazirmatn\" size=3>\n",
    "    نرخ آگهی‌های شغلی که پیشنهاد دورکاری دارند، چقدر نسبت به قبل از اولین مورد رسمی کرونا در ایران بیشتر شده است؟ منظور از «نرخ آگهی‌های شغلی که پیشنهاد دورکاری دارند» حاصل تقسیم آگهی‌های شغلی که پیشنهاد دورکاری دارند بر تعداد کل آگهی‌هاست (تعداد ردیف‌های دیتافریم). هدف این سوال این است که بفهمیم کرونا چقدر در دورکاری موثر بوده‌ است. برای این حل سوال، نرخ آگهی‌های دورکار پیش از کرونا را از نرخ آگهی‌های دورکار پس از کرونا کم کنید (یا تعدادشان را از هم‌دیگر کم کرده و نهایتاً بر تعداد کل آگهی‌ها تقسیم کنید).\n",
    "    اولین مورد رسمی کرونا در ایران را می‌توانید از متغیر <code>start_of_corona</code> که در سلول زیر گذاشته شده است پیدا کنید.\n",
    "    توجه داشته باشید اولین روزی که کرونا به ایران آمد را نیز جزو روزهای <u>پس از کرونا</u> لحاظ <b>کنید</b>.\n",
    "    <br>\n",
    "    جواب این سوال را درون متغیر <code>remote_growth</code> ذخیره کنید. جنس این متغیر از نوع <code>float</code> است. \n",
    "    <br>\n",
    "    <span color=”green”><b>راهنمایی:</b></span>\n",
    "    به عنوان مثال برای محاسبه‌ی نرخ آگهی‌های پیش از کرونا باید تعداد آگهی‌هایی که هم از نوع دورکاری هستند و هم تاریخ ثبت (<code>Publish Time</code>) آن‌ها پیش از تاریخ شروع کرونا بوده است را شمارش کرده و سپس حاصل را بر تعداد کل آگهی‌ها (از هر نوعی و در هر تاریخی) تقسیم کنید.\n",
    "</font>\n",
    "</p>"
   ]
  },
  {
   "cell_type": "code",
   "id": "10143101",
   "metadata": {
    "ExecuteTime": {
     "end_time": "2025-02-24T09:30:50.755623Z",
     "start_time": "2025-02-24T09:30:50.750481Z"
    }
   },
   "source": [
    "start_of_corona = datetime.strptime(\"2020-02-19\", \"%Y-%m-%d\")"
   ],
   "outputs": [],
   "execution_count": 221
  },
  {
   "cell_type": "code",
   "id": "b0d63c67",
   "metadata": {
    "scrolled": true,
    "ExecuteTime": {
     "end_time": "2025-02-24T09:30:50.784409Z",
     "start_time": "2025-02-24T09:30:50.772514Z"
    }
   },
   "source": [
    "df['Publish Time'] = pd.to_datetime(df['Publish Time'])\n",
    "pr_type = df[df['Offers Remote']]\n",
    "after_c = pr_type[pr_type['Publish Time'] >= start_of_corona]\n",
    "before_c = pr_type[pr_type['Publish Time'] < start_of_corona]\n",
    "remote_growth = (len(after_c) - len(before_c)) / len(df)\n",
    "print(remote_growth)"
   ],
   "outputs": [
    {
     "name": "stdout",
     "output_type": "stream",
     "text": [
      "0.23820038642009383\n"
     ]
    }
   ],
   "execution_count": 222
  },
  {
   "attachments": {},
   "cell_type": "markdown",
   "id": "90290347",
   "metadata": {},
   "source": [
    "<h3 align=right style=\"line-height:200%;font-family:vazir;color:#0099cc\">\n",
    "<font face=\"vazirmatn\" color=\"#0099cc\">\n",
    "گام دوم تحلیل\n",
    "</font>\n",
    "</h3>\n",
    "\n",
    "<p dir=rtl style=\"direction: rtl;text-align: justify;line-height:200%;font-family:vazir;font-size:medium\">\n",
    "<font face=\"vazirmatn\" size=3>\n",
    "در این گام قصد داریم به گسسته‌سازی زمان بپردازیم و باید ۲۴ ساعت شبانه‌روز را طبق جدول پایین به ۴ دسته بشکنید.\n",
    "</font>\n",
    "</p>\n",
    "\n",
    "<center>\n",
    "<div dir=rtl style=\"direction: rtl;line-height:200%;font-family:vazir;font-size:medium\">\n",
    "<font face=\"vazirmatn\" size=3>\n",
    "    \n",
    "|اسم|بازه زمانی|\n",
    "|:-------:|:-----:|\n",
    "|dawn| ۰۰:۰۰ تا ۵:۵۹:۵۹|\n",
    "|morning|۶:۰۰ تا ۱۱:۵۹:۵۹|\n",
    "|noon|۱۲:۰۰ تا ۱۷:۵۹:۵۹|\n",
    "|night|۱۸:۰۰ تا ۲۳:۵۹:۵۹|\n",
    "    \n",
    "</font>\n",
    "</div>\n",
    "</center>\n",
    "\n",
    "<p dir=rtl style=\"direction: rtl;text-align: justify;line-height:200%;font-family:vazir;font-size:medium\">\n",
    "<font face=\"vazirmatn\" size=3>\n",
    " حال محاسبه کنید در هر کدام از این ۴ بازه چه تعداد آگهی شغلی منتشر شده است؟ جواب شما باید درون متغیری به اسم <code>discrete_time</code> ذخیره شده باشد. این متغیر یک دیتاسری است که نمایه‌های (<code>index</code>) آن <code>dawn</code>, <code>morning</code>, <code>noon</code> و <code>night</code> هستند و مقدار متناظر با هر کدام از این نمایه‌ها، تعداد آگهی‌های شغلی منتشرشده است. خروجی شما باید بر اساس مقادیر به صورت نزولی مرتب شده باشد.\n",
    "</font>\n",
    "</p>\n"
   ]
  },
  {
   "cell_type": "code",
   "id": "e082768d",
   "metadata": {
    "ExecuteTime": {
     "end_time": "2025-02-24T09:30:50.828622Z",
     "start_time": "2025-02-24T09:30:50.809468Z"
    }
   },
   "source": [
    "df['Publish Time'] = pd.to_datetime(df['Publish Time'])\n",
    "df['time'] = df['Publish Time'].dt.time\n",
    "\n",
    "times = [\n",
    "    pd.Timestamp('2020-01-01 00:00:00').time(),\n",
    "    pd.Timestamp('2020-01-01 05:59:59').time(),\n",
    "    pd.Timestamp('2020-01-01 11:59:59').time(),\n",
    "    pd.Timestamp('2020-01-01 17:59:59').time(),\n",
    "    pd.Timestamp('2020-01-01 23:59:59').time()\n",
    "]\n",
    "\n",
    "labels = ['dawn', 'morning', 'noon', 'night']\n",
    "\n",
    "df['dis'] = pd.cut(df['time'].astype(str),\n",
    "                   bins=[t.strftime('%H:%M:%S') for t in times],\n",
    "                   labels=labels,\n",
    "                   right=True)\n",
    "\n",
    "# print(df[['Publish Time', 'time', 'dis']])\n",
    "discrete_time = df.groupby('dis').size().sort_values(ascending=False)\n",
    "print(discrete_time)"
   ],
   "outputs": [
    {
     "name": "stdout",
     "output_type": "stream",
     "text": [
      "dis\n",
      "noon       3950\n",
      "morning    2443\n",
      "night       746\n",
      "dawn        107\n",
      "dtype: int64\n"
     ]
    },
    {
     "name": "stderr",
     "output_type": "stream",
     "text": [
      "C:\\Users\\User\\AppData\\Local\\Temp\\ipykernel_38268\\661199311.py:20: FutureWarning: The default of observed=False is deprecated and will be changed to True in a future version of pandas. Pass observed=False to retain current behavior or observed=True to adopt the future default and silence this warning.\n",
      "  discrete_time = df.groupby('dis').size().sort_values(ascending=False)\n"
     ]
    }
   ],
   "execution_count": 223
  },
  {
   "attachments": {},
   "cell_type": "markdown",
   "id": "25fa766a",
   "metadata": {},
   "source": [
    "\n",
    "<h3 align=right style=\"line-height:200%;font-family:vazir;color:#0099cc\">\n",
    "<font face=\"vazirmatn\" color=\"#0099cc\">\n",
    "گام سوم تحلیل\n",
    "</font>\n",
    "</h3>\n",
    "\n",
    "<p dir=rtl style=\"direction: rtl;text-align: justify;line-height:200%;font-family:vazir;font-size:medium\">\n",
    "<font face=\"vazirmatn\" size=3>\n",
    "در این سوال می‌خواهیم میزان پرداختی شرکت‌ها به افراد فعال در حوزه‌ی دیتا را بررسی کنیم. برای اینکه بتوانیم آگهی‌های شغلی این حوزه را فیلتر کنیم، لیستی از کلیدواژه‌ها در سلول زیر قرار داده شده است. فرض می‌کنیم همه آگهی‌های شغلی که در عنوان (<code>Title</code>) خود یکی از این کلمات به‌کار رفته است، به حوزه‌ی داده مربوط می‌شود. لازم نیست تیتر یک آگهی تماماً یکی از کلید‌های موجود در لیست کلیدواژه‌ها باشد؛ صرفاً اگر یک کلید بخشی از تیتر یک آگهی شغلی باشد نیز ما آن آگهی شغلی را مرتبط به داده فرض می‌کنیم. مثلاً اگر کلیدی به اسم <i>Data Analyst</i> درون لیست کلیدواژه‌ها حضور داشته باشد، آنگاه یک آگهی با تیتر <i>\"استخدام Data Analyst\"</i> را مرتبط با حوزه‌ی داده در نظر می‌گیریم.\n",
    "    <br>\n",
    "    حال سوال را این‌گونه تعریف می‌کنیم: میانگین میزان پرداختی شرکت‌ها به افراد حاضر در حوزه‌ی داده به تفکیک سطح‌شان چقدر است؟ جواب خود را درون یک دیتاسری به اسم <code>data_mean</code> بریزید. نمایه‌های این سری به ترتیب حروف <code>M</code>, <code>J</code>, <code>I</code> و <code>S</code> هستند و مقدار متناظر با هر کدام از این نمایه‌ها، میانگین حقوق پرداختی شرکت‌ها به آن سطح خاص است. جنس داده این سری باید <code>float64</code> باشد    \n",
    "</font>\n",
    "</p>\n",
    "\n",
    "<p dir=rtl style=\"direction: rtl;text-align: justify;line-height:200%;font-family:vazir;font-size:medium\">\n",
    "<span color=”green”><b>راهنمایی بزرگ:</b></span>\n",
    "<font face=\"vazirmatn\" size=3>\n",
    "فراموش نکنید که پیش از انجام محاسبات، ستون <code>Title</code> را به حروف کوچک تبدیل کنید. دلیل چنین کاری این است که اگر مثلاً عنوان یک آگهی <i> Senior Data Engineer</i> باشد، کد شما باید آن را به حروف کوچک تبدیل کرده تا بتواند کلیدواژه‌ی <i>data engineer</i> را در آن پیدا کرده و آگهی را در حوزه‌ی داده تشخیص دهد.\n",
    "\n",
    "</font>\n",
    "</p>\n"
   ]
  },
  {
   "cell_type": "code",
   "id": "1319e12e",
   "metadata": {
    "ExecuteTime": {
     "end_time": "2025-02-24T09:30:50.850118Z",
     "start_time": "2025-02-24T09:30:50.846067Z"
    }
   },
   "source": [
    "keywords = ['machine learning', 'machinelearning', 'داده' , 'data scientist' ,  'datascientist' ,\\\n",
    "        'هوش مصنوعی' ,'پردازش ویدئو' , 'data engineer' , 'dataengineer' ,'بینایی ماشین' , 'یادگیری ماشین' ,\\\n",
    "        'deep learning', 'deeplearning', 'یادگیری عمیق', 'دیتاساینتیست' , 'artificial intelligence' \\\n",
    "        ,'artificialintelligence', 'هوش' , 'data analysis' , 'dataanalysis' , 'پردازش تصویر' , 'شبکه‌های عمیق', 'علم‌داده']\n"
   ],
   "outputs": [],
   "execution_count": 224
  },
  {
   "cell_type": "code",
   "id": "ddaeb23f",
   "metadata": {
    "scrolled": true,
    "ExecuteTime": {
     "end_time": "2025-02-24T10:43:46.049984Z",
     "start_time": "2025-02-24T10:43:46.030915Z"
    }
   },
   "source": [
    "df['Title'] = df['Title'].apply(lambda x: x.lower())\n",
    "pattern = \"|\".join(keywords)\n",
    "df_filtered = df[df['Title'].str.contains(pattern, na=False)]\n",
    "x = df.groupby('Level')['Salary'].mean()\n",
    "data_mean = pd.Series(x)\n",
    "print(data_mean)"
   ],
   "outputs": [
    {
     "name": "stdout",
     "output_type": "stream",
     "text": [
      "Level\n",
      "I    2.329787\n",
      "J    5.620080\n",
      "M    9.826087\n",
      "S    8.790408\n",
      "Name: Salary, dtype: float64\n"
     ]
    }
   ],
   "execution_count": 236
  },
  {
   "attachments": {},
   "cell_type": "markdown",
   "id": "42bf4780",
   "metadata": {},
   "source": [
    "\n",
    "<h2 align=right style=\"line-height:200%;font-family:vazir;color:#0099cc\">\n",
    "<font face=\"vazirmatn\" color=\"#0099cc\">\n",
    "<b>سلول جواب‌ساز</b>\n",
    "</font>\n",
    "</h2>\n",
    "\n",
    "\n",
    "<p dir=rtl style=\"direction: rtl; text-align: justify; line-height:200%; font-family:vazir; font-size:medium\">\n",
    "<font face=\"vazirmatn\" size=3>\n",
    "    برای ساخته‌شدن فایل <code>result.zip</code> سلول زیر را اجرا کنید. توجه داشته باشید که پیش از اجرای سلول زیر تغییرات اعمال‌شده در نت‌بوک را ذخیره کرده باشید (<code>ctrl+s</code>) تا در صورت نیاز به پشتیبانی امکان بررسی کد شما وجود داشته باشد.\n",
    "</font>\n",
    "</p>"
   ]
  },
  {
   "cell_type": "code",
   "id": "8d94f5f9",
   "metadata": {
    "ExecuteTime": {
     "end_time": "2025-02-24T09:30:51.080724Z",
     "start_time": "2025-02-24T09:30:50.909473Z"
    }
   },
   "source": [
    "import zipfile\n",
    "import joblib\n",
    "\n",
    "pd.DataFrame.to_csv(df, 'df.csv')\n",
    "joblib.dump(remote_growth, \"remote_growth\")\n",
    "joblib.dump(discrete_time, \"discrete_time\")\n",
    "joblib.dump(data_mean, \"data_mean\")\n",
    "\n",
    "def compress(file_names):\n",
    "    print(\"File Paths:\")\n",
    "    print(file_names)\n",
    "    # Select the compression mode ZIP_DEFLATED for compression\n",
    "    # or zipfile.ZIP_STORED to just store the file\n",
    "    compression = zipfile.ZIP_DEFLATED\n",
    "    # create the zip file first parameter path/name, second mode\n",
    "    with zipfile.ZipFile(\"result.zip\", mode=\"w\") as zf:\n",
    "        for file_name in file_names:\n",
    "            # Add file to the zip file\n",
    "            # first parameter file to zip, second filename in zip\n",
    "            zf.write('./' + file_name, file_name, compress_type=compression)\n",
    "\n",
    "file_names = [\"df.csv\", \"remote_growth\", \"discrete_time\", \"data_mean\", \"quera_magnet.ipynb\"]\n",
    "compress(file_names)"
   ],
   "outputs": [
    {
     "name": "stdout",
     "output_type": "stream",
     "text": [
      "File Paths:\n",
      "['df.csv', 'remote_growth', 'discrete_time', 'data_mean', 'quera_magnet.ipynb']\n"
     ]
    }
   ],
   "execution_count": 226
  }
 ],
 "metadata": {
  "kernelspec": {
   "display_name": "Python 3",
   "language": "python",
   "name": "python3"
  },
  "language_info": {
   "codemirror_mode": {
    "name": "ipython",
    "version": 3
   },
   "file_extension": ".py",
   "mimetype": "text/x-python",
   "name": "python",
   "nbconvert_exporter": "python",
   "pygments_lexer": "ipython3",
   "version": "3.13.0"
  }
 },
 "nbformat": 4,
 "nbformat_minor": 5
}
