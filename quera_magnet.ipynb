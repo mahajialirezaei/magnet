{
 "cells": [
  {
   "cell_type": "markdown",
   "id": "14af8c96",
   "metadata": {},
   "source": [
    "<h1 align=center style=\"line-height:200%;font-family:vazir;color:#0099cc\">\n",
    "<font face=\"vazirmatn\" color=\"#0099cc\">\n",
    "مگنت\n",
    "</font>\n",
    "</h1>"
   ]
  },
  {
   "attachments": {},
   "cell_type": "markdown",
   "id": "3be49070",
   "metadata": {},
   "source": [
    "<p dir=rtl style=\"direction: rtl;text-align: justify;line-height:200%;font-family:vazir;font-size:medium\">\n",
    "<font face=\"vazirmatn\" size=3>\n",
    "    در تمرین آخر فصل «آماده‌سازی داده» قصد داریم پس از انجام چندین گام پیش‌پردازش، داده‌های آگهی‌های شغلی کوئرا را تحلیل کنیم.\n",
    "آنچه در این تمرین تحلیل می‌کنیم مطمئناً بخش بسیار کوچکی از حقایق پنهان در دل داده‌هاست. پس پیشنهاد می‌کنیم علاوه بر آنچه این تمرین از شما می‌خواهد، خود نیز سعی کنید حقایق دیگری از داده‌ها استخراج کنید.\n",
    "این مجموعه‌داده شامل آگهی‌های شغلی است که در کوئرا ثبت شده‌اند. برای حفظ حریم شخصی شرکت‌ها، شناسه‌ی شرکت‌های ثبت‌کننده آگهی از مجموعه‌داده حذف شده است. هر سطر از این مجموعه‌داده اطلاعات یک آگهی‌ شغلی است که شرکتی قصد جذب نیروی متناسب با آن را داشته است.\n",
    "</font>\n",
    "</p>"
   ]
  },
  {
   "cell_type": "code",
   "id": "6169940f",
   "metadata": {
    "ExecuteTime": {
     "end_time": "2025-02-24T08:37:29.953456Z",
     "start_time": "2025-02-24T08:37:29.948110Z"
    }
   },
   "source": [
    "import pandas as pd\n",
    "from datetime import datetime\n",
    "\n",
    "from scipy.constants import minute"
   ],
   "outputs": [],
   "execution_count": 103
  },
  {
   "attachments": {},
   "cell_type": "markdown",
   "id": "01fb5664",
   "metadata": {},
   "source": [
    "<h2 align=right style=\"line-height:200%;font-family:vazir;color:#0099cc\">\n",
    "<font face=\"vazirmatn\" color=\"#0099cc\">\n",
    "مجموعه‌داده\n",
    "</font>\n",
    "</h2>\n",
    "\n",
    "<p dir=rtl style=\"direction: rtl;text-align: justify;line-height:200%;font-family:vazir;font-size:medium\">\n",
    "<font face=\"vazirmatn\" size=3>\n",
    "    مجموعه داده‌ی این سوال دارای ۸ ستون است که در جدول زیر به شرح ستون‌های آن پرداخته شده‌است.\n",
    "</font>\n",
    "</p>\n",
    "\n",
    "<center>\n",
    "<div dir=rtl style=\"direction: rtl;text-align: justify;line-height:200%;font-family:vazir;font-size:medium\">\n",
    "<font face=\"vazirmatn\" size=3>\n",
    "\n",
    "| نام ستون| توضیح ستون|\n",
    "|:------------------:|:------------------:|\n",
    "|Level|سطح نیرویی که شرکت قصد جذب داشته. این ستون دارای ۴ مقدار منحصر به فرد است. (Junior) S (Senior)، M (Mid level)، J و (Intern) I|\n",
    "|Offers Remote|نشان می‌دهد آیا شرکت امکان دورکاری برای موقعیت شغلی را فراهم کرده‌ است یا خیر.|\n",
    "|Publish Time|تاریخ و ساعتی که آگهی شغلی منتشر شده است.|\n",
    "|Salary|حقوقی که شرکت برای یک موقعیت شغلی خاص در نظر گرفته‌ است. <code>MT</code> آخر هر عبارت نشان‌دهنده‌ی «میلیون تومان» است. و علامت‌های <code>></code> و <code><</code> حد بالا و حد پایین حقوق نوشته‌شده را نشان می‌دهد.|\n",
    "|Title|عنوانی که شرکت برای یک آگهی شغلی خاص ثبت کرده است.|\n",
    "|Close Time|تاریخ و ساعتی که آگهی شغلی بسته شده است.|\n",
    "|State|وضعیت فعلی آگهی شغلی را نشان می‌دهد. دارای سه مقدار منحصر به فرد است. A (Archived)، C (Closed) و PB (Published)|\n",
    "|Collaboration Type|وضعیت همکاری را نشان می‌دهد که آیا FT (Full Time / تمام‌وقت) است یا PT (Part Time / پاره‌وقت)|\n",
    "\n",
    "    \n",
    "</font>\n",
    "</div>\n",
    "</center>\n"
   ]
  },
  {
   "attachments": {},
   "cell_type": "markdown",
   "id": "6a302c1d",
   "metadata": {},
   "source": [
    "<p dir=rtl style=\"direction: rtl;text-align: justify;line-height:200%;font-family:vazir;font-size:medium\">\n",
    "<font face=\"vazirmatn\" size=3>\n",
    "    این سوال در دو بخش تدوین شده است: پیش‌پردازش و تحلیل.\n",
    "    در ابتدا مراحل پیش‌پردازش را شرح خواهیم‌ داد، سپس به سراغ مرحله‌ی تحلیل می‌رویم.\n",
    "</font>\n",
    "</p>\n"
   ]
  },
  {
   "cell_type": "code",
   "id": "5f58ddfb",
   "metadata": {
    "scrolled": true,
    "ExecuteTime": {
     "end_time": "2025-02-24T08:37:29.984455Z",
     "start_time": "2025-02-24T08:37:29.960619Z"
    }
   },
   "source": [
    "df = pd.read_csv('job_posts.csv')"
   ],
   "outputs": [],
   "execution_count": 104
  },
  {
   "attachments": {},
   "cell_type": "markdown",
   "id": "04617399",
   "metadata": {},
   "source": [
    "<h2 align=right style=\"line-height:200%;font-family:vazir;color:#0099cc\">\n",
    "<font face=\"vazirmatn\" color=\"#0099cc\">\n",
    "پیش‌پردازش\n",
    "</font>\n",
    "</h2>\n",
    "\n",
    "<p dir=rtl style=\"direction: rtl;text-align: justify;line-height:200%;font-family:vazir;font-size:medium\">\n",
    "<font face=\"vazirmatn\" size=3>\n",
    "پیش‌پردازش این سوال، شامل سه گام است که پس از اعمال آن‌ها، مجموعه‌داده‌ی ما برای تحلیل آماده می‌شود.    \n",
    "</font>\n",
    "</p>\n"
   ]
  },
  {
   "attachments": {},
   "cell_type": "markdown",
   "id": "f7dde16b",
   "metadata": {},
   "source": [
    "<h3 align=right style=\"line-height:200%;font-family:vazir;color:#0099cc\">\n",
    "<font face=\"vazirmatn\" color=\"#0099cc\">\n",
    "گام اول پیش‌پردازش\n",
    "</font>\n",
    "</h3>\n",
    "\n",
    "<p dir=rtl style=\"direction: rtl;text-align: justify;line-height:200%;font-family:vazir;font-size:medium\">\n",
    "<font face=\"vazirmatn\" size=3>\n",
    "    سطرهایی که <b>هر ۳ ستون </b> <code>Level</code> ،<code>Salary</code> و <code>Collaboration Type</code> در آن‌ها گم‌شده‌اند (<code>NaN</code> هستند) را کلاً از داده‌ها حذف کنید. با داده‌ای که از این مرحله به‌دست می‌آورید سراغ گام دوم بروید.\n",
    "</font>\n",
    "</p>\n"
   ]
  },
  {
   "cell_type": "code",
   "id": "fd7be7d7",
   "metadata": {
    "ExecuteTime": {
     "end_time": "2025-02-24T08:37:30.008444Z",
     "start_time": "2025-02-24T08:37:29.998696Z"
    }
   },
   "source": [
    "df = df.dropna(subset=['Salary', 'Level', 'Collaboration Type'], how='all')\n",
    "print(df)"
   ],
   "outputs": [
    {
     "name": "stdout",
     "output_type": "stream",
     "text": [
      "     Level  Offers Remote         Publish Time Salary  \\\n",
      "0        S          False  2020-04-20 16:52:15   <8MT   \n",
      "1        J          False  2020-02-24 12:55:02  <12MT   \n",
      "2        J           True  2020-02-12 13:49:32   <8MT   \n",
      "3        J          False  2020-08-18 15:46:48   <3MT   \n",
      "5        J          False  2020-10-11 12:02:37    NaN   \n",
      "...    ...            ...                  ...    ...   \n",
      "7664     S          False  2021-05-17 10:11:20    NaN   \n",
      "7665     S          False  2021-05-17 09:54:44    NaN   \n",
      "7666     S          False  2021-05-17 09:53:45    NaN   \n",
      "7667     S          False  2021-05-17 08:17:06    NaN   \n",
      "7668     S           True  2021-05-15 16:24:36  >12MT   \n",
      "\n",
      "                           Title           Close Time State Collaboration Type  \n",
      "0            توسعه‌دهنده Node.js  2020-06-20 03:00:06     C                 FT  \n",
      "1            توسعه‌دهنده Backend  2020-04-25 03:00:05     C                 FT  \n",
      "2                 توسعه‌دهنده C#  2020-04-13 03:00:05     C                 FT  \n",
      "3          توسعه‌دهنده Front-end  2020-08-25 21:51:39     C                 PT  \n",
      "5      Associate Product Manager  2020-11-08 01:27:52     C                 FT  \n",
      "...                          ...                  ...   ...                ...  \n",
      "7664             DevOps Engineer  2021-06-27 04:04:50     C                 FT  \n",
      "7665    برنامه‌نویس ASP.NET Core  2021-06-27 04:04:50     C                 FT  \n",
      "7666        توسعه‌دهنده C++ (qt)  2021-06-27 04:04:50     C                 FT  \n",
      "7667          کارشناس هوش مصنوعی  2021-06-27 04:04:50     C                 FT  \n",
      "7668  توسعه‌دهنده ارشد Front-end  2021-06-27 04:04:50     C                 FT  \n",
      "\n",
      "[7246 rows x 8 columns]\n"
     ]
    }
   ],
   "execution_count": 105
  },
  {
   "attachments": {},
   "cell_type": "markdown",
   "id": "e72433fe",
   "metadata": {},
   "source": [
    "<h3 align=right style=\"line-height:200%;font-family:vazir;color:#0099cc\">\n",
    "<font face=\"vazirmatn\" color=\"#0099cc\">\n",
    "گام دوم پیش‌پردازش\n",
    "</font>\n",
    "</h3>\n",
    "\n",
    "<p dir=rtl style=\"direction: rtl;text-align: justify;line-height:200%;font-family:vazir;font-size:medium\">\n",
    "<font face=\"vazirmatn\" size=3>\n",
    "    مقادیر ستون <code>Salary</code> را با عددی که دارند جایگزین کنید.\n",
    "    مثلا مقداری مثل \n",
    "    <code>>6MT</code>\n",
    "     را به \n",
    "     <code>6</code>\n",
    "      تبدیل کنید.\n",
    "    یا \n",
    "    <code>>12MT</code>\n",
    "     را به\n",
    "      <code>12</code>\n",
    "       و ... تبدیل کنید.\n",
    "    <br>\n",
    "    به صورت کلی، عدد هر رشته  از ستون <code>Salary</code> را جدا کرده و جایگزین همان رشته‌ی درون دیتاست کنید.\n",
    "    </font>\n",
    "</p>"
   ]
  },
  {
   "cell_type": "code",
   "id": "2a9fd319",
   "metadata": {
    "ExecuteTime": {
     "end_time": "2025-02-24T08:37:30.081789Z",
     "start_time": "2025-02-24T08:37:30.041261Z"
    }
   },
   "source": [
    "import re\n",
    "df['Salary'] = df['Salary'].apply(lambda x: int(re.findall(r'\\d+', x)[0]))\n",
    "print(df)"
   ],
   "outputs": [
    {
     "ename": "TypeError",
     "evalue": "expected string or bytes-like object, got 'float'",
     "output_type": "error",
     "traceback": [
      "\u001B[1;31m---------------------------------------------------------------------------\u001B[0m",
      "\u001B[1;31mTypeError\u001B[0m                                 Traceback (most recent call last)",
      "Cell \u001B[1;32mIn[106], line 2\u001B[0m\n\u001B[0;32m      1\u001B[0m \u001B[38;5;28;01mimport\u001B[39;00m\u001B[38;5;250m \u001B[39m\u001B[38;5;21;01mre\u001B[39;00m\n\u001B[1;32m----> 2\u001B[0m df[\u001B[38;5;124m'\u001B[39m\u001B[38;5;124mSalary\u001B[39m\u001B[38;5;124m'\u001B[39m] \u001B[38;5;241m=\u001B[39m \u001B[43mdf\u001B[49m\u001B[43m[\u001B[49m\u001B[38;5;124;43m'\u001B[39;49m\u001B[38;5;124;43mSalary\u001B[39;49m\u001B[38;5;124;43m'\u001B[39;49m\u001B[43m]\u001B[49m\u001B[38;5;241;43m.\u001B[39;49m\u001B[43mapply\u001B[49m\u001B[43m(\u001B[49m\u001B[38;5;28;43;01mlambda\u001B[39;49;00m\u001B[43m \u001B[49m\u001B[43mx\u001B[49m\u001B[43m:\u001B[49m\u001B[43m \u001B[49m\u001B[38;5;28;43mint\u001B[39;49m\u001B[43m(\u001B[49m\u001B[43mre\u001B[49m\u001B[38;5;241;43m.\u001B[39;49m\u001B[43mfindall\u001B[49m\u001B[43m(\u001B[49m\u001B[38;5;124;43mr\u001B[39;49m\u001B[38;5;124;43m'\u001B[39;49m\u001B[38;5;124;43m\\\u001B[39;49m\u001B[38;5;124;43md+\u001B[39;49m\u001B[38;5;124;43m'\u001B[39;49m\u001B[43m,\u001B[49m\u001B[43m \u001B[49m\u001B[43mx\u001B[49m\u001B[43m)\u001B[49m\u001B[43m[\u001B[49m\u001B[38;5;241;43m0\u001B[39;49m\u001B[43m]\u001B[49m\u001B[43m)\u001B[49m\u001B[43m)\u001B[49m\n\u001B[0;32m      3\u001B[0m \u001B[38;5;28mprint\u001B[39m(df)\n",
      "File \u001B[1;32m~\\AppData\\Local\\Programs\\Python\\Python313\\Lib\\site-packages\\pandas\\core\\series.py:4924\u001B[0m, in \u001B[0;36mSeries.apply\u001B[1;34m(self, func, convert_dtype, args, by_row, **kwargs)\u001B[0m\n\u001B[0;32m   4789\u001B[0m \u001B[38;5;28;01mdef\u001B[39;00m\u001B[38;5;250m \u001B[39m\u001B[38;5;21mapply\u001B[39m(\n\u001B[0;32m   4790\u001B[0m     \u001B[38;5;28mself\u001B[39m,\n\u001B[0;32m   4791\u001B[0m     func: AggFuncType,\n\u001B[1;32m   (...)\u001B[0m\n\u001B[0;32m   4796\u001B[0m     \u001B[38;5;241m*\u001B[39m\u001B[38;5;241m*\u001B[39mkwargs,\n\u001B[0;32m   4797\u001B[0m ) \u001B[38;5;241m-\u001B[39m\u001B[38;5;241m>\u001B[39m DataFrame \u001B[38;5;241m|\u001B[39m Series:\n\u001B[0;32m   4798\u001B[0m \u001B[38;5;250m    \u001B[39m\u001B[38;5;124;03m\"\"\"\u001B[39;00m\n\u001B[0;32m   4799\u001B[0m \u001B[38;5;124;03m    Invoke function on values of Series.\u001B[39;00m\n\u001B[0;32m   4800\u001B[0m \n\u001B[1;32m   (...)\u001B[0m\n\u001B[0;32m   4915\u001B[0m \u001B[38;5;124;03m    dtype: float64\u001B[39;00m\n\u001B[0;32m   4916\u001B[0m \u001B[38;5;124;03m    \"\"\"\u001B[39;00m\n\u001B[0;32m   4917\u001B[0m     \u001B[38;5;28;01mreturn\u001B[39;00m \u001B[43mSeriesApply\u001B[49m\u001B[43m(\u001B[49m\n\u001B[0;32m   4918\u001B[0m \u001B[43m        \u001B[49m\u001B[38;5;28;43mself\u001B[39;49m\u001B[43m,\u001B[49m\n\u001B[0;32m   4919\u001B[0m \u001B[43m        \u001B[49m\u001B[43mfunc\u001B[49m\u001B[43m,\u001B[49m\n\u001B[0;32m   4920\u001B[0m \u001B[43m        \u001B[49m\u001B[43mconvert_dtype\u001B[49m\u001B[38;5;241;43m=\u001B[39;49m\u001B[43mconvert_dtype\u001B[49m\u001B[43m,\u001B[49m\n\u001B[0;32m   4921\u001B[0m \u001B[43m        \u001B[49m\u001B[43mby_row\u001B[49m\u001B[38;5;241;43m=\u001B[39;49m\u001B[43mby_row\u001B[49m\u001B[43m,\u001B[49m\n\u001B[0;32m   4922\u001B[0m \u001B[43m        \u001B[49m\u001B[43margs\u001B[49m\u001B[38;5;241;43m=\u001B[39;49m\u001B[43margs\u001B[49m\u001B[43m,\u001B[49m\n\u001B[0;32m   4923\u001B[0m \u001B[43m        \u001B[49m\u001B[43mkwargs\u001B[49m\u001B[38;5;241;43m=\u001B[39;49m\u001B[43mkwargs\u001B[49m\u001B[43m,\u001B[49m\n\u001B[1;32m-> 4924\u001B[0m \u001B[43m    \u001B[49m\u001B[43m)\u001B[49m\u001B[38;5;241;43m.\u001B[39;49m\u001B[43mapply\u001B[49m\u001B[43m(\u001B[49m\u001B[43m)\u001B[49m\n",
      "File \u001B[1;32m~\\AppData\\Local\\Programs\\Python\\Python313\\Lib\\site-packages\\pandas\\core\\apply.py:1427\u001B[0m, in \u001B[0;36mSeriesApply.apply\u001B[1;34m(self)\u001B[0m\n\u001B[0;32m   1424\u001B[0m     \u001B[38;5;28;01mreturn\u001B[39;00m \u001B[38;5;28mself\u001B[39m\u001B[38;5;241m.\u001B[39mapply_compat()\n\u001B[0;32m   1426\u001B[0m \u001B[38;5;66;03m# self.func is Callable\u001B[39;00m\n\u001B[1;32m-> 1427\u001B[0m \u001B[38;5;28;01mreturn\u001B[39;00m \u001B[38;5;28;43mself\u001B[39;49m\u001B[38;5;241;43m.\u001B[39;49m\u001B[43mapply_standard\u001B[49m\u001B[43m(\u001B[49m\u001B[43m)\u001B[49m\n",
      "File \u001B[1;32m~\\AppData\\Local\\Programs\\Python\\Python313\\Lib\\site-packages\\pandas\\core\\apply.py:1507\u001B[0m, in \u001B[0;36mSeriesApply.apply_standard\u001B[1;34m(self)\u001B[0m\n\u001B[0;32m   1501\u001B[0m \u001B[38;5;66;03m# row-wise access\u001B[39;00m\n\u001B[0;32m   1502\u001B[0m \u001B[38;5;66;03m# apply doesn't have a `na_action` keyword and for backward compat reasons\u001B[39;00m\n\u001B[0;32m   1503\u001B[0m \u001B[38;5;66;03m# we need to give `na_action=\"ignore\"` for categorical data.\u001B[39;00m\n\u001B[0;32m   1504\u001B[0m \u001B[38;5;66;03m# TODO: remove the `na_action=\"ignore\"` when that default has been changed in\u001B[39;00m\n\u001B[0;32m   1505\u001B[0m \u001B[38;5;66;03m#  Categorical (GH51645).\u001B[39;00m\n\u001B[0;32m   1506\u001B[0m action \u001B[38;5;241m=\u001B[39m \u001B[38;5;124m\"\u001B[39m\u001B[38;5;124mignore\u001B[39m\u001B[38;5;124m\"\u001B[39m \u001B[38;5;28;01mif\u001B[39;00m \u001B[38;5;28misinstance\u001B[39m(obj\u001B[38;5;241m.\u001B[39mdtype, CategoricalDtype) \u001B[38;5;28;01melse\u001B[39;00m \u001B[38;5;28;01mNone\u001B[39;00m\n\u001B[1;32m-> 1507\u001B[0m mapped \u001B[38;5;241m=\u001B[39m \u001B[43mobj\u001B[49m\u001B[38;5;241;43m.\u001B[39;49m\u001B[43m_map_values\u001B[49m\u001B[43m(\u001B[49m\n\u001B[0;32m   1508\u001B[0m \u001B[43m    \u001B[49m\u001B[43mmapper\u001B[49m\u001B[38;5;241;43m=\u001B[39;49m\u001B[43mcurried\u001B[49m\u001B[43m,\u001B[49m\u001B[43m \u001B[49m\u001B[43mna_action\u001B[49m\u001B[38;5;241;43m=\u001B[39;49m\u001B[43maction\u001B[49m\u001B[43m,\u001B[49m\u001B[43m \u001B[49m\u001B[43mconvert\u001B[49m\u001B[38;5;241;43m=\u001B[39;49m\u001B[38;5;28;43mself\u001B[39;49m\u001B[38;5;241;43m.\u001B[39;49m\u001B[43mconvert_dtype\u001B[49m\n\u001B[0;32m   1509\u001B[0m \u001B[43m\u001B[49m\u001B[43m)\u001B[49m\n\u001B[0;32m   1511\u001B[0m \u001B[38;5;28;01mif\u001B[39;00m \u001B[38;5;28mlen\u001B[39m(mapped) \u001B[38;5;129;01mand\u001B[39;00m \u001B[38;5;28misinstance\u001B[39m(mapped[\u001B[38;5;241m0\u001B[39m], ABCSeries):\n\u001B[0;32m   1512\u001B[0m     \u001B[38;5;66;03m# GH#43986 Need to do list(mapped) in order to get treated as nested\u001B[39;00m\n\u001B[0;32m   1513\u001B[0m     \u001B[38;5;66;03m#  See also GH#25959 regarding EA support\u001B[39;00m\n\u001B[0;32m   1514\u001B[0m     \u001B[38;5;28;01mreturn\u001B[39;00m obj\u001B[38;5;241m.\u001B[39m_constructor_expanddim(\u001B[38;5;28mlist\u001B[39m(mapped), index\u001B[38;5;241m=\u001B[39mobj\u001B[38;5;241m.\u001B[39mindex)\n",
      "File \u001B[1;32m~\\AppData\\Local\\Programs\\Python\\Python313\\Lib\\site-packages\\pandas\\core\\base.py:921\u001B[0m, in \u001B[0;36mIndexOpsMixin._map_values\u001B[1;34m(self, mapper, na_action, convert)\u001B[0m\n\u001B[0;32m    918\u001B[0m \u001B[38;5;28;01mif\u001B[39;00m \u001B[38;5;28misinstance\u001B[39m(arr, ExtensionArray):\n\u001B[0;32m    919\u001B[0m     \u001B[38;5;28;01mreturn\u001B[39;00m arr\u001B[38;5;241m.\u001B[39mmap(mapper, na_action\u001B[38;5;241m=\u001B[39mna_action)\n\u001B[1;32m--> 921\u001B[0m \u001B[38;5;28;01mreturn\u001B[39;00m \u001B[43malgorithms\u001B[49m\u001B[38;5;241;43m.\u001B[39;49m\u001B[43mmap_array\u001B[49m\u001B[43m(\u001B[49m\u001B[43marr\u001B[49m\u001B[43m,\u001B[49m\u001B[43m \u001B[49m\u001B[43mmapper\u001B[49m\u001B[43m,\u001B[49m\u001B[43m \u001B[49m\u001B[43mna_action\u001B[49m\u001B[38;5;241;43m=\u001B[39;49m\u001B[43mna_action\u001B[49m\u001B[43m,\u001B[49m\u001B[43m \u001B[49m\u001B[43mconvert\u001B[49m\u001B[38;5;241;43m=\u001B[39;49m\u001B[43mconvert\u001B[49m\u001B[43m)\u001B[49m\n",
      "File \u001B[1;32m~\\AppData\\Local\\Programs\\Python\\Python313\\Lib\\site-packages\\pandas\\core\\algorithms.py:1743\u001B[0m, in \u001B[0;36mmap_array\u001B[1;34m(arr, mapper, na_action, convert)\u001B[0m\n\u001B[0;32m   1741\u001B[0m values \u001B[38;5;241m=\u001B[39m arr\u001B[38;5;241m.\u001B[39mastype(\u001B[38;5;28mobject\u001B[39m, copy\u001B[38;5;241m=\u001B[39m\u001B[38;5;28;01mFalse\u001B[39;00m)\n\u001B[0;32m   1742\u001B[0m \u001B[38;5;28;01mif\u001B[39;00m na_action \u001B[38;5;129;01mis\u001B[39;00m \u001B[38;5;28;01mNone\u001B[39;00m:\n\u001B[1;32m-> 1743\u001B[0m     \u001B[38;5;28;01mreturn\u001B[39;00m \u001B[43mlib\u001B[49m\u001B[38;5;241;43m.\u001B[39;49m\u001B[43mmap_infer\u001B[49m\u001B[43m(\u001B[49m\u001B[43mvalues\u001B[49m\u001B[43m,\u001B[49m\u001B[43m \u001B[49m\u001B[43mmapper\u001B[49m\u001B[43m,\u001B[49m\u001B[43m \u001B[49m\u001B[43mconvert\u001B[49m\u001B[38;5;241;43m=\u001B[39;49m\u001B[43mconvert\u001B[49m\u001B[43m)\u001B[49m\n\u001B[0;32m   1744\u001B[0m \u001B[38;5;28;01melse\u001B[39;00m:\n\u001B[0;32m   1745\u001B[0m     \u001B[38;5;28;01mreturn\u001B[39;00m lib\u001B[38;5;241m.\u001B[39mmap_infer_mask(\n\u001B[0;32m   1746\u001B[0m         values, mapper, mask\u001B[38;5;241m=\u001B[39misna(values)\u001B[38;5;241m.\u001B[39mview(np\u001B[38;5;241m.\u001B[39muint8), convert\u001B[38;5;241m=\u001B[39mconvert\n\u001B[0;32m   1747\u001B[0m     )\n",
      "File \u001B[1;32mlib.pyx:2972\u001B[0m, in \u001B[0;36mpandas._libs.lib.map_infer\u001B[1;34m()\u001B[0m\n",
      "Cell \u001B[1;32mIn[106], line 2\u001B[0m, in \u001B[0;36m<lambda>\u001B[1;34m(x)\u001B[0m\n\u001B[0;32m      1\u001B[0m \u001B[38;5;28;01mimport\u001B[39;00m\u001B[38;5;250m \u001B[39m\u001B[38;5;21;01mre\u001B[39;00m\n\u001B[1;32m----> 2\u001B[0m df[\u001B[38;5;124m'\u001B[39m\u001B[38;5;124mSalary\u001B[39m\u001B[38;5;124m'\u001B[39m] \u001B[38;5;241m=\u001B[39m df[\u001B[38;5;124m'\u001B[39m\u001B[38;5;124mSalary\u001B[39m\u001B[38;5;124m'\u001B[39m]\u001B[38;5;241m.\u001B[39mapply(\u001B[38;5;28;01mlambda\u001B[39;00m x: \u001B[38;5;28mint\u001B[39m(\u001B[43mre\u001B[49m\u001B[38;5;241;43m.\u001B[39;49m\u001B[43mfindall\u001B[49m\u001B[43m(\u001B[49m\u001B[38;5;124;43mr\u001B[39;49m\u001B[38;5;124;43m'\u001B[39;49m\u001B[38;5;124;43m\\\u001B[39;49m\u001B[38;5;124;43md+\u001B[39;49m\u001B[38;5;124;43m'\u001B[39;49m\u001B[43m,\u001B[49m\u001B[43m \u001B[49m\u001B[43mx\u001B[49m\u001B[43m)\u001B[49m[\u001B[38;5;241m0\u001B[39m]))\n\u001B[0;32m      3\u001B[0m \u001B[38;5;28mprint\u001B[39m(df)\n",
      "File \u001B[1;32m~\\AppData\\Local\\Programs\\Python\\Python313\\Lib\\re\\__init__.py:278\u001B[0m, in \u001B[0;36mfindall\u001B[1;34m(pattern, string, flags)\u001B[0m\n\u001B[0;32m    270\u001B[0m \u001B[38;5;28;01mdef\u001B[39;00m\u001B[38;5;250m \u001B[39m\u001B[38;5;21mfindall\u001B[39m(pattern, string, flags\u001B[38;5;241m=\u001B[39m\u001B[38;5;241m0\u001B[39m):\n\u001B[0;32m    271\u001B[0m \u001B[38;5;250m    \u001B[39m\u001B[38;5;124;03m\"\"\"Return a list of all non-overlapping matches in the string.\u001B[39;00m\n\u001B[0;32m    272\u001B[0m \n\u001B[0;32m    273\u001B[0m \u001B[38;5;124;03m    If one or more capturing groups are present in the pattern, return\u001B[39;00m\n\u001B[1;32m   (...)\u001B[0m\n\u001B[0;32m    276\u001B[0m \n\u001B[0;32m    277\u001B[0m \u001B[38;5;124;03m    Empty matches are included in the result.\"\"\"\u001B[39;00m\n\u001B[1;32m--> 278\u001B[0m     \u001B[38;5;28;01mreturn\u001B[39;00m \u001B[43m_compile\u001B[49m\u001B[43m(\u001B[49m\u001B[43mpattern\u001B[49m\u001B[43m,\u001B[49m\u001B[43m \u001B[49m\u001B[43mflags\u001B[49m\u001B[43m)\u001B[49m\u001B[38;5;241;43m.\u001B[39;49m\u001B[43mfindall\u001B[49m\u001B[43m(\u001B[49m\u001B[43mstring\u001B[49m\u001B[43m)\u001B[49m\n",
      "\u001B[1;31mTypeError\u001B[0m: expected string or bytes-like object, got 'float'"
     ]
    }
   ],
   "execution_count": 106
  },
  {
   "attachments": {},
   "cell_type": "markdown",
   "id": "7015fd3d",
   "metadata": {},
   "source": [
    "<h3 align=right style=\"line-height:200%;font-family:vazir;color:#0099cc\">\n",
    "<font face=\"vazirmatn\" color=\"#0099cc\">\n",
    "گام سوم پیش‌پردازش\n",
    "</font>\n",
    "</h3>\n",
    "\n",
    "<p dir=rtl style=\"direction: rtl;text-align: justify;line-height:200%;font-family:vazir;font-size:medium\">\n",
    "<font face=\"vazirmatn\" size=3>\n",
    "    مقادیر گم‌شده‌ی ستون <code>Salary</code> را با میانگین حقوق‌ها <b>به تفکیک سطح</b> پر کنید. یعنی اگر <code>Salary</code> یک آگهی جونیور (<code>J</code>) گم‌شده بود، آن را با میانگین همه‌ی جونیورها پر کنید؛ اگر <code>Salary</code> یک آگهی سینیور (<code>S</code>) گم‌شده بود، آن را با میانگین همه‌ی سنیورها پر کنید؛ اگر <code>Salary</code> یک آگهی میدلول (<code>M</code>) گم‌شده بود، آن را با میانگین همه‌ی میدلول‌ها پر کنید؛ اگر <code>Salary</code> یک آگهی اینترن (<code>I</code>) گم‌شده بود، آن را با میانگین همه‌ی اینترن‌ها پر کنید.\n",
    "</font>\n",
    "</p>"
   ]
  },
  {
   "cell_type": "code",
   "id": "9e2228c5",
   "metadata": {
    "ExecuteTime": {
     "end_time": "2025-02-24T08:37:30.083737500Z",
     "start_time": "2025-02-23T11:23:06.215024Z"
    }
   },
   "source": [
    "df['Salary'] = df.groupby('Level')['Salary'].transform(lambda x: x.fillna(x.mean()))\n",
    "print(df)"
   ],
   "outputs": [
    {
     "name": "stdout",
     "output_type": "stream",
     "text": [
      "     Level  Offers Remote         Publish Time  Salary  \\\n",
      "0        S          False  2020-04-20 16:52:15       8   \n",
      "1        J          False  2020-02-24 12:55:02      12   \n",
      "2        J           True  2020-02-12 13:49:32       8   \n",
      "3        J          False  2020-08-18 15:46:48       3   \n",
      "7        S          False  2020-02-12 14:00:42       4   \n",
      "...    ...            ...                  ...     ...   \n",
      "7649     S          False  2021-05-17 20:17:10      12   \n",
      "7654     J           True  2021-05-17 17:40:19       6   \n",
      "7655     S          False  2021-05-17 17:38:17       8   \n",
      "7661     J           True  2021-05-17 11:44:38       6   \n",
      "7668     S           True  2021-05-15 16:24:36      12   \n",
      "\n",
      "                                     Title           Close Time State  \\\n",
      "0                      توسعه‌دهنده Node.js  2020-06-20 03:00:06     C   \n",
      "1                      توسعه‌دهنده Backend  2020-04-25 03:00:05     C   \n",
      "2                           توسعه‌دهنده C#  2020-04-13 03:00:05     C   \n",
      "3                    توسعه‌دهنده Front-end  2020-08-25 21:51:39     C   \n",
      "7                           توسعه‌دهنده C#  2020-04-13 03:00:05     C   \n",
      "...                                    ...                  ...   ...   \n",
      "7649                      برنامه‌نویس Java  2021-06-27 04:04:46     C   \n",
      "7654  توسعه‌دهنده Back-end / PHP / Laravel  2021-06-27 04:04:47     C   \n",
      "7655                 توسعه‌دهنده Front-end  2021-06-27 04:04:47     C   \n",
      "7661                      برنامه‌نویس .NET  2021-06-27 04:04:49     C   \n",
      "7668            توسعه‌دهنده ارشد Front-end  2021-06-27 04:04:50     C   \n",
      "\n",
      "     Collaboration Type  \n",
      "0                    FT  \n",
      "1                    FT  \n",
      "2                    FT  \n",
      "3                    PT  \n",
      "7                    PT  \n",
      "...                 ...  \n",
      "7649                 FT  \n",
      "7654                 FT  \n",
      "7655                 FT  \n",
      "7661                 FT  \n",
      "7668                 FT  \n",
      "\n",
      "[3493 rows x 8 columns]\n"
     ]
    }
   ],
   "execution_count": 20
  },
  {
   "attachments": {},
   "cell_type": "markdown",
   "id": "3f187efb",
   "metadata": {},
   "source": [
    "<p dir=rtl style=\"direction: rtl;text-align: justify;line-height:200%;font-family:vazir;font-size:medium\">\n",
    "<font face=\"vazirmatn\" size=3>\n",
    "حال با داده‌ای که پس از این مراحل به‌دست آورده‌اید، به حل سوالات بعدی بپردازید.\n",
    "</font>\n",
    "</p>"
   ]
  },
  {
   "attachments": {},
   "cell_type": "markdown",
   "id": "e96a54aa",
   "metadata": {},
   "source": [
    "<h2 align=right style=\"line-height:200%;font-family:vazir;color:#0099cc\">\n",
    "<font face=\"vazirmatn\" color=\"#0099cc\">\n",
    "تحلیل    \n",
    "</font>\n",
    "</h2>\n",
    "\n",
    "<p dir=rtl style=\"direction: rtl;text-align: right;line-height:200%;font-family:vazir;font-size:medium\">\n",
    "<font face=\"vazirmatn\" size=3>\n",
    "    بخش تحلیل تمرین مگنت نیز از سه گام تشکیل شده‌است:\n",
    "    <ul dir=rtl>\n",
    "    <li>در گام اول می‌خواهیم تاثیر کرونا بر دورکاری در ایران را بسنجیم.</li>\n",
    "    <li>در سوال دوم تاثیر زمان بر انتشار آگهی‌های شغلی را اندازه می‌گیریم.</li>\n",
    "    <li>و نهایتاً در گام سوم میانگین دریافتی فعالان حوزه‌ی داده را به‌دست خواهیم آورد.</li>\n",
    "    </ul>\n",
    "</font>\n",
    "</p>\n"
   ]
  },
  {
   "attachments": {},
   "cell_type": "markdown",
   "id": "d4655aa6",
   "metadata": {},
   "source": [
    "<h3 align=right style=\"line-height:200%;font-family:vazir;color:#0099cc\">\n",
    "<font face=\"vazirmatn\" color=\"#0099cc\">\n",
    "گام اول تحلیل\n",
    "</font>\n",
    "</h3>\n",
    "\n",
    "<p dir=rtl style=\"direction: rtl;text-align: justify;line-height:200%;font-family:vazir;font-size:medium\">\n",
    "<font face=\"vazirmatn\" size=3>\n",
    "    نرخ آگهی‌های شغلی که پیشنهاد دورکاری دارند، چقدر نسبت به قبل از اولین مورد رسمی کرونا در ایران بیشتر شده است؟ منظور از «نرخ آگهی‌های شغلی که پیشنهاد دورکاری دارند» حاصل تقسیم آگهی‌های شغلی که پیشنهاد دورکاری دارند بر تعداد کل آگهی‌هاست (تعداد ردیف‌های دیتافریم). هدف این سوال این است که بفهمیم کرونا چقدر در دورکاری موثر بوده‌ است. برای این حل سوال، نرخ آگهی‌های دورکار پیش از کرونا را از نرخ آگهی‌های دورکار پس از کرونا کم کنید (یا تعدادشان را از هم‌دیگر کم کرده و نهایتاً بر تعداد کل آگهی‌ها تقسیم کنید).\n",
    "    اولین مورد رسمی کرونا در ایران را می‌توانید از متغیر <code>start_of_corona</code> که در سلول زیر گذاشته شده است پیدا کنید.\n",
    "    توجه داشته باشید اولین روزی که کرونا به ایران آمد را نیز جزو روزهای <u>پس از کرونا</u> لحاظ <b>کنید</b>.\n",
    "    <br>\n",
    "    جواب این سوال را درون متغیر <code>remote_growth</code> ذخیره کنید. جنس این متغیر از نوع <code>float</code> است. \n",
    "    <br>\n",
    "    <span color=”green”><b>راهنمایی:</b></span>\n",
    "    به عنوان مثال برای محاسبه‌ی نرخ آگهی‌های پیش از کرونا باید تعداد آگهی‌هایی که هم از نوع دورکاری هستند و هم تاریخ ثبت (<code>Publish Time</code>) آن‌ها پیش از تاریخ شروع کرونا بوده است را شمارش کرده و سپس حاصل را بر تعداد کل آگهی‌ها (از هر نوعی و در هر تاریخی) تقسیم کنید.\n",
    "</font>\n",
    "</p>"
   ]
  },
  {
   "cell_type": "code",
   "id": "10143101",
   "metadata": {
    "ExecuteTime": {
     "end_time": "2025-02-24T08:37:30.084737500Z",
     "start_time": "2025-02-24T07:59:36.376643Z"
    }
   },
   "source": [
    "start_of_corona = datetime.strptime(\"2020-02-19\", \"%Y-%m-%d\")"
   ],
   "outputs": [],
   "execution_count": 46
  },
  {
   "cell_type": "code",
   "id": "b0d63c67",
   "metadata": {
    "scrolled": true,
    "ExecuteTime": {
     "end_time": "2025-02-24T08:37:30.091737700Z",
     "start_time": "2025-02-24T08:10:03.463112Z"
    }
   },
   "source": [
    "# TODO: find remote_growth = ((remote offers rate after corona) - (remote offers rate before corona)) / (all offers)\n",
    "df['Publish Time'] = pd.to_datetime(df['Publish Time'])\n",
    "pr_type = df[df['Collaboration Type'] == 'PR']\n",
    "after_c = pr_type[pr_type['Publish Time'] >= start_of_corona]\n",
    "before_c = pr_type[pr_type['Publish Time'] < start_of_corona]\n",
    "remote_growth = len(after_c) - len(before_c) / len(df)\n",
    "print(remote_growth)"
   ],
   "outputs": [
    {
     "name": "stdout",
     "output_type": "stream",
     "text": [
      "255.99089152635938\n"
     ]
    }
   ],
   "execution_count": 62
  },
  {
   "attachments": {},
   "cell_type": "markdown",
   "id": "90290347",
   "metadata": {},
   "source": [
    "<h3 align=right style=\"line-height:200%;font-family:vazir;color:#0099cc\">\n",
    "<font face=\"vazirmatn\" color=\"#0099cc\">\n",
    "گام دوم تحلیل\n",
    "</font>\n",
    "</h3>\n",
    "\n",
    "<p dir=rtl style=\"direction: rtl;text-align: justify;line-height:200%;font-family:vazir;font-size:medium\">\n",
    "<font face=\"vazirmatn\" size=3>\n",
    "در این گام قصد داریم به گسسته‌سازی زمان بپردازیم و باید ۲۴ ساعت شبانه‌روز را طبق جدول پایین به ۴ دسته بشکنید.\n",
    "</font>\n",
    "</p>\n",
    "\n",
    "<center>\n",
    "<div dir=rtl style=\"direction: rtl;line-height:200%;font-family:vazir;font-size:medium\">\n",
    "<font face=\"vazirmatn\" size=3>\n",
    "    \n",
    "|اسم|بازه زمانی|\n",
    "|:-------:|:-----:|\n",
    "|dawn| ۰۰:۰۰ تا ۵:۵۹:۵۹|\n",
    "|morning|۶:۰۰ تا ۱۱:۵۹:۵۹|\n",
    "|noon|۱۲:۰۰ تا ۱۷:۵۹:۵۹|\n",
    "|night|۱۸:۰۰ تا ۲۳:۵۹:۵۹|\n",
    "    \n",
    "</font>\n",
    "</div>\n",
    "</center>\n",
    "\n",
    "<p dir=rtl style=\"direction: rtl;text-align: justify;line-height:200%;font-family:vazir;font-size:medium\">\n",
    "<font face=\"vazirmatn\" size=3>\n",
    " حال محاسبه کنید در هر کدام از این ۴ بازه چه تعداد آگهی شغلی منتشر شده است؟ جواب شما باید درون متغیری به اسم <code>discrete_time</code> ذخیره شده باشد. این متغیر یک دیتاسری است که نمایه‌های (<code>index</code>) آن <code>dawn</code>, <code>morning</code>, <code>noon</code> و <code>night</code> هستند و مقدار متناظر با هر کدام از این نمایه‌ها، تعداد آگهی‌های شغلی منتشرشده است. خروجی شما باید بر اساس مقادیر به صورت نزولی مرتب شده باشد.\n",
    "</font>\n",
    "</p>\n"
   ]
  },
  {
   "cell_type": "code",
   "id": "e082768d",
   "metadata": {
    "ExecuteTime": {
     "end_time": "2025-02-24T08:37:30.091737700Z",
     "start_time": "2025-02-24T08:37:21.606615Z"
    }
   },
   "source": "",
   "outputs": [
    {
     "name": "stdout",
     "output_type": "stream",
     "text": [
      "0       NaN\n",
      "1       NaN\n",
      "2       NaN\n",
      "3       NaN\n",
      "5       NaN\n",
      "       ... \n",
      "7664    NaN\n",
      "7665    NaN\n",
      "7666    NaN\n",
      "7667    NaN\n",
      "7668    NaN\n",
      "Name: dis, Length: 7246, dtype: category\n",
      "Categories (4, object): ['dawn' < 'morning' < 'noon' < 'night']\n"
     ]
    }
   ],
   "execution_count": 102
  },
  {
   "attachments": {},
   "cell_type": "markdown",
   "id": "25fa766a",
   "metadata": {},
   "source": [
    "\n",
    "<h3 align=right style=\"line-height:200%;font-family:vazir;color:#0099cc\">\n",
    "<font face=\"vazirmatn\" color=\"#0099cc\">\n",
    "گام سوم تحلیل\n",
    "</font>\n",
    "</h3>\n",
    "\n",
    "<p dir=rtl style=\"direction: rtl;text-align: justify;line-height:200%;font-family:vazir;font-size:medium\">\n",
    "<font face=\"vazirmatn\" size=3>\n",
    "در این سوال می‌خواهیم میزان پرداختی شرکت‌ها به افراد فعال در حوزه‌ی دیتا را بررسی کنیم. برای اینکه بتوانیم آگهی‌های شغلی این حوزه را فیلتر کنیم، لیستی از کلیدواژه‌ها در سلول زیر قرار داده شده است. فرض می‌کنیم همه آگهی‌های شغلی که در عنوان (<code>Title</code>) خود یکی از این کلمات به‌کار رفته است، به حوزه‌ی داده مربوط می‌شود. لازم نیست تیتر یک آگهی تماماً یکی از کلید‌های موجود در لیست کلیدواژه‌ها باشد؛ صرفاً اگر یک کلید بخشی از تیتر یک آگهی شغلی باشد نیز ما آن آگهی شغلی را مرتبط به داده فرض می‌کنیم. مثلاً اگر کلیدی به اسم <i>Data Analyst</i> درون لیست کلیدواژه‌ها حضور داشته باشد، آنگاه یک آگهی با تیتر <i>\"استخدام Data Analyst\"</i> را مرتبط با حوزه‌ی داده در نظر می‌گیریم.\n",
    "    <br>\n",
    "    حال سوال را این‌گونه تعریف می‌کنیم: میانگین میزان پرداختی شرکت‌ها به افراد حاضر در حوزه‌ی داده به تفکیک سطح‌شان چقدر است؟ جواب خود را درون یک دیتاسری به اسم <code>data_mean</code> بریزید. نمایه‌های این سری به ترتیب حروف <code>M</code>, <code>J</code>, <code>I</code> و <code>S</code> هستند و مقدار متناظر با هر کدام از این نمایه‌ها، میانگین حقوق پرداختی شرکت‌ها به آن سطح خاص است. جنس داده این سری باید <code>float64</code> باشد    \n",
    "</font>\n",
    "</p>\n",
    "\n",
    "<p dir=rtl style=\"direction: rtl;text-align: justify;line-height:200%;font-family:vazir;font-size:medium\">\n",
    "<span color=”green”><b>راهنمایی بزرگ:</b></span>\n",
    "<font face=\"vazirmatn\" size=3>\n",
    "فراموش نکنید که پیش از انجام محاسبات، ستون <code>Title</code> را به حروف کوچک تبدیل کنید. دلیل چنین کاری این است که اگر مثلاً عنوان یک آگهی <i> Senior Data Engineer</i> باشد، کد شما باید آن را به حروف کوچک تبدیل کرده تا بتواند کلیدواژه‌ی <i>data engineer</i> را در آن پیدا کرده و آگهی را در حوزه‌ی داده تشخیص دهد.\n",
    "\n",
    "</font>\n",
    "</p>\n"
   ]
  },
  {
   "cell_type": "code",
   "id": "1319e12e",
   "metadata": {
    "ExecuteTime": {
     "end_time": "2025-02-24T08:37:30.092738Z",
     "start_time": "2025-02-23T11:20:37.443299Z"
    }
   },
   "source": [
    "keywords = ['machine learning', 'machinelearning', 'داده' , 'data scientist' ,  'datascientist' ,\\\n",
    "        'هوش مصنوعی' ,'پردازش ویدئو' , 'data engineer' , 'dataengineer' ,'بینایی ماشین' , 'یادگیری ماشین' ,\\\n",
    "        'deep learning', 'deeplearning', 'یادگیری عمیق', 'دیتاساینتیست' , 'artificial intelligence' \\\n",
    "        ,'artificialintelligence', 'هوش' , 'data analysis' , 'dataanalysis' , 'پردازش تصویر' , 'شبکه‌های عمیق', 'علم‌داده']\n"
   ],
   "outputs": [],
   "execution_count": 9
  },
  {
   "cell_type": "code",
   "id": "ddaeb23f",
   "metadata": {
    "scrolled": true,
    "ExecuteTime": {
     "end_time": "2025-02-24T08:37:30.099382900Z",
     "start_time": "2025-02-23T11:20:37.459792Z"
    }
   },
   "source": [
    "# TODO: find data_mean\n",
    "data_mean = None"
   ],
   "outputs": [],
   "execution_count": 10
  },
  {
   "attachments": {},
   "cell_type": "markdown",
   "id": "42bf4780",
   "metadata": {},
   "source": [
    "<h2 align=right style=\"line-height:200%;font-family:vazir;color:#0099cc\">\n",
    "<font face=\"vazirmatn\" color=\"#0099cc\">\n",
    "<b>سلول جواب‌ساز</b>\n",
    "</font>\n",
    "</h2>\n",
    "\n",
    "\n",
    "<p dir=rtl style=\"direction: rtl; text-align: justify; line-height:200%; font-family:vazir; font-size:medium\">\n",
    "<font face=\"vazirmatn\" size=3>\n",
    "    برای ساخته‌شدن فایل <code>result.zip</code> سلول زیر را اجرا کنید. توجه داشته باشید که پیش از اجرای سلول زیر تغییرات اعمال‌شده در نت‌بوک را ذخیره کرده باشید (<code>ctrl+s</code>) تا در صورت نیاز به پشتیبانی امکان بررسی کد شما وجود داشته باشد.\n",
    "</font>\n",
    "</p>"
   ]
  },
  {
   "cell_type": "code",
   "id": "8d94f5f9",
   "metadata": {
    "ExecuteTime": {
     "end_time": "2025-02-24T08:37:30.100382900Z",
     "start_time": "2025-02-23T11:20:37.481057Z"
    }
   },
   "source": [
    "import zipfile\n",
    "import joblib\n",
    "\n",
    "pd.DataFrame.to_csv(df, 'df.csv')\n",
    "joblib.dump(remote_growth, \"remote_growth\")\n",
    "joblib.dump(discrete_time, \"discrete_time\")\n",
    "joblib.dump(data_mean, \"data_mean\")\n",
    "\n",
    "def compress(file_names):\n",
    "    print(\"File Paths:\")\n",
    "    print(file_names)\n",
    "    # Select the compression mode ZIP_DEFLATED for compression\n",
    "    # or zipfile.ZIP_STORED to just store the file\n",
    "    compression = zipfile.ZIP_DEFLATED\n",
    "    # create the zip file first parameter path/name, second mode\n",
    "    with zipfile.ZipFile(\"result.zip\", mode=\"w\") as zf:\n",
    "        for file_name in file_names:\n",
    "            # Add file to the zip file\n",
    "            # first parameter file to zip, second filename in zip\n",
    "            zf.write('./' + file_name, file_name, compress_type=compression)\n",
    "\n",
    "file_names = [\"df.csv\", \"remote_growth\", \"discrete_time\", \"data_mean\", \"quera_magnet.ipynb\"]\n",
    "compress(file_names)"
   ],
   "outputs": [
    {
     "name": "stdout",
     "output_type": "stream",
     "text": [
      "File Paths:\n",
      "['df.csv', 'remote_growth', 'discrete_time', 'data_mean', 'quera_magnet.ipynb']\n"
     ]
    }
   ],
   "execution_count": 11
  }
 ],
 "metadata": {
  "kernelspec": {
   "display_name": "Python 3",
   "language": "python",
   "name": "python3"
  },
  "language_info": {
   "codemirror_mode": {
    "name": "ipython",
    "version": 3
   },
   "file_extension": ".py",
   "mimetype": "text/x-python",
   "name": "python",
   "nbconvert_exporter": "python",
   "pygments_lexer": "ipython3",
   "version": "3.13.0"
  }
 },
 "nbformat": 4,
 "nbformat_minor": 5
}
